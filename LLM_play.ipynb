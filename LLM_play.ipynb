{
 "cells": [
  {
   "cell_type": "code",
   "execution_count": 31,
   "metadata": {},
   "outputs": [],
   "source": [
    "import API_llm as API"
   ]
  },
  {
   "cell_type": "code",
   "execution_count": 32,
   "metadata": {},
   "outputs": [],
   "source": [
    "message = \"Hello, this is a message!\\n\"\n",
    "with open('output.txt', 'w') as file:\n",
    "    file.write(message)\n",
    "    # Erase the file content\n",
    "    \n",
    "    \n",
    "def log(message):\n",
    "    with open('output.txt', 'a') as file:\n",
    "        file.write(message)\n",
    "        file.write('\\n')"
   ]
  },
  {
   "cell_type": "code",
   "execution_count": 33,
   "metadata": {},
   "outputs": [],
   "source": [
    "def addHistory(players, message):\n",
    "    for player in players:\n",
    "        player.addHistory({\"role\": \"system\", \"content\": message})"
   ]
  },
  {
   "cell_type": "code",
   "execution_count": 34,
   "metadata": {},
   "outputs": [],
   "source": [
    "import game_control as ll\n",
    "# import easygui\n",
    "\n",
    "players = [ll.player('玩家一'), ll.player('玩家二'), ll.player('玩家三')]\n",
    "# easygui.msgbox(gameStartMessage, title=\"Simple GUI\")\n",
    "players[0].addHistory({\"role\": \"system\", \"content\": \"你是一个斗地主机器人。\"})\n",
    "players[1].addHistory({\"role\": \"system\", \"content\": \"你是一个斗地主机器人。\"})\n",
    "players[2].addHistory({\"role\": \"system\", \"content\": \"你是一个斗地主机器人。\"})\n",
    "\n",
    "\n",
    "landLordNumber, gameStartMessage = ll.landlordDecide(players, ll.gameStart(players))\n",
    "log(gameStartMessage)\n",
    "addHistory(players, gameStartMessage)   \n",
    "\n",
    "\n",
    "playing = landLordNumber\n",
    "table = ll.series()\n",
    "passCount = 0\n",
    "gameEnd = 0"
   ]
  },
  {
   "cell_type": "code",
   "execution_count": 35,
   "metadata": {},
   "outputs": [
    {
     "name": "stdout",
     "output_type": "stream",
     "text": [
      "Error rate: 0.2872340425531915\n",
      "Turn count: 94\n"
     ]
    }
   ],
   "source": [
    "error_count = 0\n",
    "turn_count = 0\n",
    "\n",
    "while gameEnd == 0:\n",
    "    # If everyone passed, clear the table\n",
    "    if passCount == 2:\n",
    "        table = ll.series()\n",
    "        passCount = 0\n",
    "        \n",
    "    \n",
    "    # Player's turn\n",
    "    while True:\n",
    "        # Tell the player the current table and player's hand\n",
    "        current_message = players[playing].playerTurn(table)\n",
    "        \n",
    "        # Get response from the player\n",
    "        response = API.get_llm_reaction(players[playing].getHistory(), current_message)\n",
    "        players[playing].addHistory({\"role\": \"assistant\", \"content\": response})\n",
    "        \n",
    "        # Check if the player wants to pass\n",
    "        if (response == 'PASS' or response == '不出') and table.seriesCards != []:\n",
    "            passCount += 1\n",
    "            log(players[playing].name + ' 不要')\n",
    "            break\n",
    "        \n",
    "        # Check if the player cast a valid card\n",
    "        playerResponseSeries, playerResponseCards = players[playing].cardsValid(response,table)\n",
    "        \n",
    "        verify, message = playerResponseSeries.compare(table)\n",
    "        if verify:\n",
    "            addHistory(players, players[playing].name + ' 出牌: ' + str(playerResponseSeries))\n",
    "            log(players[playing].name + ' 出牌: ' + str(playerResponseSeries))\n",
    "            table = playerResponseSeries\n",
    "            playerOutput = playerResponseSeries\n",
    "            players[playing].castCards(playerResponseCards)\n",
    "            passCount = 0\n",
    "            break\n",
    "        \n",
    "        elif message == '违规':\n",
    "            players[playing].addHistory({\"role\": \"system\", \"content\": '你的出牌不符合规则, 请重新出牌'})\n",
    "            error_count += 1\n",
    "            continue\n",
    "        else:\n",
    "            players[playing].addHistory({\"role\": \"system\", \"content\": '上家比你牌大, 请重新出牌'})\n",
    "            error_count += 1\n",
    "            continue\n",
    "        \n",
    "    turn_count += 1\n",
    "    \n",
    "    # Check if the player has won\n",
    "    gameEnd, winner = ll.gameEnd(players)\n",
    "    if gameEnd == 1:\n",
    "        log(players[winner].name + ' 赢了')\n",
    "        break\n",
    "    \n",
    "    playing = (playing + 1) % 3\n",
    "        \n",
    "print('Error rate: ' + str(error_count/turn_count))\n",
    "print('Turn count: ' + str(turn_count))"
   ]
  },
  {
   "cell_type": "code",
   "execution_count": 36,
   "metadata": {},
   "outputs": [],
   "source": [
    "for player in players:\n",
    "    log(player.name + '的历史记录:')\n",
    "    log('--------------------------------')\n",
    "    for history in player.getHistory():\n",
    "        log(str(history))"
   ]
  }
 ],
 "metadata": {
  "kernelspec": {
   "display_name": "pytorch2.0",
   "language": "python",
   "name": "python3"
  },
  "language_info": {
   "codemirror_mode": {
    "name": "ipython",
    "version": 3
   },
   "file_extension": ".py",
   "mimetype": "text/x-python",
   "name": "python",
   "nbconvert_exporter": "python",
   "pygments_lexer": "ipython3",
   "version": "3.11.10"
  }
 },
 "nbformat": 4,
 "nbformat_minor": 2
}
