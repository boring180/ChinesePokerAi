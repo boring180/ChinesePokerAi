{
 "cells": [
  {
   "cell_type": "code",
   "execution_count": 8,
   "metadata": {},
   "outputs": [],
   "source": [
    "import API_llm as API\n",
    "\n",
    "history = [{\"role\": \"system\", \"content\": \"You are a helpful assistant, and you never repeat your answers.\"},]"
   ]
  },
  {
   "cell_type": "code",
   "execution_count": 14,
   "metadata": {},
   "outputs": [
    {
     "name": "stdout",
     "output_type": "stream",
     "text": [
      "The governing center of the United States is in Washington, District of Columbia.\n",
      "[{'role': 'system', 'content': 'You are a helpful assistant, and you never repeat your answers.'}, {'role': 'assistant', 'content': 'The capital of the United States is Washington D.C.'}, {'role': 'assistant', 'content': \"It's the city known as Washington, District of Columbia.\"}, {'role': 'assistant', 'content': 'The seat of the United States government is located in Washington, D.C.'}, {'role': 'assistant', 'content': 'The main administrative city of the United States is Washington, D.C.'}, {'role': 'assistant', 'content': 'The US government operates out of Washington, D.C.'}, {'role': 'assistant', 'content': 'The governing center of the United States is in Washington, District of Columbia.'}]\n"
     ]
    }
   ],
   "source": [
    "respond = API.get_llm_reaction(history, 'What is the capital of the United States?')\n",
    "history.append({\"role\": \"assistant\", \"content\": respond})\n",
    "print(respond)\n",
    "print(history)"
   ]
  }
 ],
 "metadata": {
  "kernelspec": {
   "display_name": "pytorch2.0",
   "language": "python",
   "name": "python3"
  },
  "language_info": {
   "codemirror_mode": {
    "name": "ipython",
    "version": 3
   },
   "file_extension": ".py",
   "mimetype": "text/x-python",
   "name": "python",
   "nbconvert_exporter": "python",
   "pygments_lexer": "ipython3",
   "version": "3.11.10"
  }
 },
 "nbformat": 4,
 "nbformat_minor": 2
}
