{
 "cells": [
  {
   "cell_type": "markdown",
   "metadata": {},
   "source": [
    "# 用来打斗地主的Ai"
   ]
  },
  {
   "cell_type": "markdown",
   "metadata": {},
   "source": [
    "# import external library"
   ]
  },
  {
   "cell_type": "code",
   "execution_count": 75,
   "metadata": {},
   "outputs": [],
   "source": [
    "import random\n",
    "\n",
    "suits = ['♠', '♥', '♣', '♦', '']\n",
    "values = ['A', '2', '3', '4', '5', '6', '7', '8', '9', '10', 'J', 'Q', 'K', '小王', '大王']"
   ]
  },
  {
   "cell_type": "markdown",
   "metadata": {},
   "source": [
    "# Define"
   ]
  },
  {
   "cell_type": "code",
   "execution_count": 76,
   "metadata": {},
   "outputs": [],
   "source": [
    "def validateDeal(cards)->bool:\n",
    "    pass\n",
    "\n",
    "def validateLate(cardsEarly, cardsLate)->bool:\n",
    "    pass"
   ]
  },
  {
   "cell_type": "markdown",
   "metadata": {},
   "source": [
    "## 牌类"
   ]
  },
  {
   "cell_type": "code",
   "execution_count": 77,
   "metadata": {},
   "outputs": [],
   "source": [
    "class Card:\n",
    "    \n",
    "    def __init__(self, suit, value):\n",
    "        self.suit = suit\n",
    "        self.value = value\n",
    "        self.id = suit * 13 + value\n",
    "    \n",
    "    #def __init__(self, suit):\n",
    "    #    self.suit = suit\n",
    "    #    self.value = 'Joker'\n",
    "    #    self.id = 0\n",
    "\n",
    "    def __str__(self):\n",
    "        return suits[self.suit] + values[self.value]"
   ]
  },
  {
   "cell_type": "markdown",
   "metadata": {},
   "source": [
    "## 玩家类"
   ]
  },
  {
   "cell_type": "code",
   "execution_count": 78,
   "metadata": {},
   "outputs": [],
   "source": [
    "class player:\n",
    "    def __init__(self, name, cards):\n",
    "        self.name = name\n",
    "        self.landLord =  False\n",
    "        self.cards = cards\n",
    "        \n",
    "\n",
    "    def __str__(self):\n",
    "        landLordYesNo = \"是\" if(self.landLord) else \"不是\"\n",
    "        return self.name + \"， 有\" + f\"{len(self.cards)}\" + \"张手牌， \" + landLordYesNo + \"地主。\"\n",
    "        \n",
    "    def becomeLandLord(self):\n",
    "        self.landLord = True\n",
    "\n",
    "    def playCard(self, early)-> bool:\n",
    "        while True:\n",
    "            print(self.name, \"的手牌是\", self.cards)\n",
    "            play = input('请出牌（不要请输入pass）：')\n",
    "            if play == 'pass':\n",
    "                return False\n",
    "            if len(early) == 0:\n",
    "                if validateDeal(play) == True:\n",
    "                    return True\n",
    "                else:\n",
    "                    continue\n",
    "            else:\n",
    "                if validateLate(early, play):\n",
    "                    return True\n",
    "                else:\n",
    "                    continue"
   ]
  },
  {
   "cell_type": "markdown",
   "metadata": {},
   "source": [
    "## 比较大小"
   ]
  },
  {
   "cell_type": "code",
   "execution_count": 79,
   "metadata": {},
   "outputs": [
    {
     "ename": "SyntaxError",
     "evalue": "invalid syntax (3745693355.py, line 11)",
     "output_type": "error",
     "traceback": [
      "\u001b[0;36m  Cell \u001b[0;32mIn[79], line 11\u001b[0;36m\u001b[0m\n\u001b[0;31m    if\u001b[0m\n\u001b[0m       ^\u001b[0m\n\u001b[0;31mSyntaxError\u001b[0m\u001b[0;31m:\u001b[0m invalid syntax\n"
     ]
    }
   ],
   "source": [
    "def validateDeal(cards)->bool:\n",
    "    values = [card.value for card in cards]\n",
    "    values.sort()\n",
    "    \n",
    "    length = len(cards)\n",
    "    \n",
    "    if length == 1:\n",
    "        # 单牌\n",
    "        return True\n",
    "    \n",
    "    if length == 2:\n",
    "        # 对子 或 王炸\n",
    "        if cards[0].suit == cards[1].suit:\n",
    "            return True\n",
    "        return False\n",
    "    \n",
    "    if length == 3:\n",
    "        # 三\n",
    "        if cards[0].value == cards[1].value & cards[1].value == cards[2].value:\n",
    "            return True\n",
    "        return False\n",
    "        \n",
    "    if length == 4:\n",
    "        # 三带一 或 炸弹\n",
    "        if cards[0].value == cards[1].value & cards[1].value == cards[2].value:\n",
    "            return True\n",
    "        if cards[1].value == cards[2].value & cards[2].value == cards[3].value:\n",
    "            return True\n",
    "        return False\n",
    "    \n",
    "    if length == 5:\n",
    "        # 三带一对\n",
    "        if cards[0].value == cards[1].value & cards[1].value == cards[2].value & cards[3].value == cards[4].value:\n",
    "            return True\n",
    "        if cards[2].value == cards[3].value & cards[3].value == cards[4].value & cards[0].value == cards[1].value:\n",
    "            return True\n",
    "        # 顺子\n",
    "        straight = True\n",
    "        for i in range(4):\n",
    "            if cards[i].value != (cards[i+1].value - 1):\n",
    "                straight = False\n",
    "        if straight:\n",
    "            return True\n",
    "        return False\n",
    "    \n",
    "    \n",
    "            \n",
    "\n",
    "\n",
    "        "
   ]
  },
  {
   "cell_type": "code",
   "execution_count": 80,
   "metadata": {},
   "outputs": [],
   "source": [
    "def validateLate(cardsEarly, cardsLate)->bool:\n",
    "    if validateDeal(cardsLate) == False:\n",
    "        return False\n",
    "    \n",
    "    valuesEarly = [card.value for card in cardsEarly]\n",
    "    valuesEarly.sort()\n",
    "    \n",
    "    valuesLate = [card.value for card in cardsLate]\n",
    "    cardsLate.sort()\n",
    "\n",
    "    if len(cardsLate) != len(cardsLate):\n",
    "        return False\n",
    "    \n",
    "    if len(cardsEarly) <= 3:\n",
    "        if cardsEarly[0] >= cardsLate[0]:\n",
    "            return False\n",
    "\n",
    "    valiate = False\n",
    "    \n",
    "    return True\n",
    "\n",
    "    for i in range(len(values) - 1):\n",
    "        if values[i + 1] - values[i] != 1:\n",
    "            return False\n",
    "\n",
    "    return True"
   ]
  },
  {
   "cell_type": "markdown",
   "metadata": {},
   "source": [
    "## 洗牌"
   ]
  },
  {
   "cell_type": "code",
   "execution_count": 88,
   "metadata": {},
   "outputs": [],
   "source": [
    "deck = [Card(suit, value) for suit in range(4) for value in range(13)]\n",
    "\n",
    "deck.append(Card(4, 13))\n",
    "deck.append(Card(4, 14))\n",
    "\n",
    "random.shuffle(deck)"
   ]
  },
  {
   "cell_type": "markdown",
   "metadata": {},
   "source": [
    "## 发牌"
   ]
  },
  {
   "cell_type": "code",
   "execution_count": 92,
   "metadata": {},
   "outputs": [
    {
     "name": "stdout",
     "output_type": "stream",
     "text": [
      "玩家： player1， 有17张手牌， 不是地主。\n"
     ]
    }
   ],
   "source": [
    "player1 = player('player1', deck[:17])\n",
    "player2 = player('player2', deck[17:34])\n",
    "player3 = player('player3', deck[34:51])\n",
    "\n",
    "print(player1)\n"
   ]
  },
  {
   "cell_type": "markdown",
   "metadata": {},
   "source": [
    "# Reference\n",
    "https://worktile.com/kb/ask/2194245.html"
   ]
  }
 ],
 "metadata": {
  "kernelspec": {
   "display_name": "Python 3",
   "language": "python",
   "name": "python3"
  },
  "language_info": {
   "codemirror_mode": {
    "name": "ipython",
    "version": 3
   },
   "file_extension": ".py",
   "mimetype": "text/x-python",
   "name": "python",
   "nbconvert_exporter": "python",
   "pygments_lexer": "ipython3",
   "version": "3.9.19"
  }
 },
 "nbformat": 4,
 "nbformat_minor": 2
}
